{
 "cells": [
  {
   "cell_type": "code",
   "execution_count": 1,
   "metadata": {
    "pycharm": {
     "name": "#%%\n"
    }
   },
   "outputs": [],
   "source": [
    "import copy\n",
    "import json\n",
    "import matplotlib.pyplot as plt\n",
    "import numpy as np\n",
    "import pickle\n",
    "from sklearn.metrics import confusion_matrix, classification_report\n",
    "from sklearn.metrics import ConfusionMatrixDisplay\n",
    "import time\n",
    "\n",
    "# - Rockpool imports\n",
    "from rockpool.nn.modules.jax import LinearJax\n",
    "from rockpool.nn.combinators import Sequential\n",
    "from rockpool.timeseries import TSEvent\n",
    "from rockpool.devices.dynapse import (\n",
    "    DynapSim,\n",
    "    mapper,\n",
    "    autoencoder_quantization,\n",
    "    config_from_specification,\n",
    "    find_dynapse_boards,\n",
    "    DynapseSamna,\n",
    "    dynapsim_net_from_config,\n",
    ")\n",
    "\n",
    "import sys\n",
    "sys.path.append(\"../training-pipeline/lib\")\n",
    "from data_loading import load_data"
   ]
  },
  {
   "cell_type": "markdown",
   "metadata": {},
   "source": [
    "## Data Loading and Model Restoration"
   ]
  },
  {
   "cell_type": "code",
   "execution_count": 72,
   "metadata": {
    "pycharm": {
     "name": "#%%\n"
    }
   },
   "outputs": [],
   "source": [
    "# Configuration\n",
    "model_path = \"../nni_experiments/dynapse2/final/dynapse2_4cw\"\n",
    "\n",
    "def load_data_from_model_path(model_path):\n",
    "    # Obtain training metadata\n",
    "    training_metadata = None\n",
    "    with open(f\"{model_path}/training_metadata.json\") as f:\n",
    "        training_metadata = json.load(f)\n",
    "\n",
    "    # Load dataset\n",
    "    input_params = training_metadata[\"input_params\"]\n",
    "\n",
    "    train_dl, val_dl, test_dl = load_data(**input_params)\n",
    "    return train_dl, val_dl, test_dl, input_params\n",
    "\n",
    "def load_network_from_path(model_path, input_params):\n",
    "    # Load simulation parameters\n",
    "    sim_params = np.load(f\"{model_path}/model_sim_params.npy\", allow_pickle=True)\n",
    "    layer_params = sim_params.item()[\"1_DynapSim\"]\n",
    "\n",
    "    # Obtain pretrained layer weights\n",
    "    opt_params =  np.load(f\"{model_path}/model_params.npy\", allow_pickle=True)\n",
    "    w_in_opt = opt_params.item()[\"0_LinearJax\"][\"weight\"]\n",
    "    w_rec_opt = opt_params.item()[\"1_DynapSim\"][\"w_rec\"]\n",
    "\n",
    "    # Build network\n",
    "    n_input_channels = input_params[\"n_channels\"]\n",
    "    n_output_channels = len(input_params[\"enabled_classes\"]) if input_params[\"enabled_classes\"] != None else input_params[\"n_classes\"]\n",
    "\n",
    "    net = Sequential(\n",
    "        LinearJax((n_input_channels, n_output_channels), has_bias=False, weight=w_in_opt),\n",
    "        DynapSim(\n",
    "            (n_output_channels, n_output_channels),\n",
    "            has_rec=True,\n",
    "            w_rec = w_rec_opt,\n",
    "            **layer_params,\n",
    "        )\n",
    "    )\n",
    "\n",
    "    print(f\"Built network: \\n{net}\")\n",
    "\n",
    "    return net,n_input_channels,n_output_channels\n",
    "\n",
    "train_dl, val_dl, test_dl, input_params = load_data_from_model_path(model_path)"
   ]
  },
  {
   "cell_type": "markdown",
   "metadata": {},
   "source": [
    "## Model Evaluation"
   ]
  },
  {
   "cell_type": "code",
   "execution_count": null,
   "metadata": {
    "collapsed": false,
    "pycharm": {
     "name": "#%% md\n"
    }
   },
   "outputs": [],
   "source": [
    "# Load network from model path\n",
    "net,_,_ = load_network_from_path(model_path, input_params)\n",
    "\n",
    "# Evaluate network on the full test set\n",
    "ds = test_dl.dataset\n",
    "net = net.reset_state()\n",
    "output, _, _ = net(ds.x.numpy())\n",
    "m = np.sum(output, axis=1)\n",
    "preds = np.argmax(m, axis=1)\n",
    "print(f\"Final accuracy: {np.round(np.mean(np.array(preds == ds.y.numpy()))*100,decimals=2)}%\")\n",
    "\n",
    "# Calculate confusion matrix\n",
    "cm = confusion_matrix(ds.y.numpy(), preds)\n",
    "disp = ConfusionMatrixDisplay(cm)\n",
    "disp.plot()\n",
    "plt.show()\n",
    "\n",
    "# Print the classification report\n",
    "print(classification_report(ds.y.numpy(), preds))"
   ]
  },
  {
   "cell_type": "code",
   "execution_count": null,
   "metadata": {},
   "outputs": [],
   "source": [
    "# Plot the network activity for a specific sample\n",
    "ds = test_dl.dataset\n",
    "i = 0\n",
    "output, _, _ = net(ds.x.numpy()[i])\n",
    "\n",
    "spks = np.sum(output,axis=1)[0]\n",
    "print(f\"Neural Activity (spikes per neuron): {spks}\")\n",
    "print(f\"Expected Label: {int(ds.y.numpy()[i])}\")\n",
    "print(f\"Predicted Label: {spks.argmax()}\")\n",
    "\n",
    "TSEvent.from_raster(\n",
    "            output[0],\n",
    "            dt=1e-3,\n",
    "        ).plot(marker=\"|\", s=8)\n",
    "plt.plot(0, ds.y.numpy()[i], '>', ms=20)\n",
    "plt.tight_layout()\n",
    "plt.show()"
   ]
  },
  {
   "attachments": {},
   "cell_type": "markdown",
   "metadata": {},
   "source": [
    "## Quantization Tuning and Hardware Config Generation"
   ]
  },
  {
   "cell_type": "code",
   "execution_count": null,
   "metadata": {
    "pycharm": {
     "name": "#%%\n"
    }
   },
   "outputs": [],
   "source": [
    "# Load network from model path\n",
    "net,n_input_channels,n_output_channels = load_network_from_path(model_path, input_params)\n",
    "\n",
    "# Convert network to spec\n",
    "spec = mapper(net.as_graph())\n",
    "spec_Q = copy.deepcopy(spec)\n",
    "\n",
    "# Use quantization tuned specification object, if available\n",
    "try:\n",
    "    with open(f\"{model_path}/dynapse2_qtuned_params\", \"rb\") as f:\n",
    "        params_Q = pickle.load(f)\n",
    "        spec_Q.update(params_Q)\n",
    "    print(\"Model tuning applied\")\n",
    "except FileNotFoundError:\n",
    "    # Quantize the parameters\n",
    "    spec_Q.update(autoencoder_quantization(**spec_Q))\n",
    "    print(\"No model tuning available\")\n",
    "\n",
    "# Convert spec to DYNAP-SE2 configuration\n",
    "config = config_from_specification(**spec_Q)\n",
    "\n",
    "# Print the most significative parameters from hardware configuration object\n",
    "enabled_params = [\"SYAM_W0_P\",\"SYAM_W1_P\",\"SYAM_W2_P\",\"SYAM_W3_P\",\"DEAM_ITAU_P\",\"DEAM_ETAU_P\",\"DEAM_IGAIN_P\",\"DEAM_EGAIN_P\",\"SOIF_LEAK_N\",\"SOIF_SPKTHR_P\",\"SOIF_GAIN_N\",\"SOIF_REFR_N\",\"SOIF_DC_P\"]\n",
    "\n",
    "params = []\n",
    "for (k,v) in config[\"config\"].chips[0].cores[0].parameters.items():\n",
    "    if k in enabled_params:\n",
    "        params.append((k,v))\n",
    "\n",
    "for param in sorted(params):\n",
    "    print(f\"{param[0]} -> (Coarse:{param[1].coarse_value}, Fine:{param[1].fine_value})\")\n",
    "\n",
    "# Build DYNAPSim from the config\n",
    "net_quantized = dynapsim_net_from_config(**config)"
   ]
  },
  {
   "attachments": {},
   "cell_type": "markdown",
   "metadata": {},
   "source": [
    "## Quantized Network Analysis"
   ]
  },
  {
   "cell_type": "code",
   "execution_count": null,
   "metadata": {},
   "outputs": [],
   "source": [
    "# Display the quantized network weights\n",
    "plt.imshow(np.array(spec['weights_in']).T)\n",
    "plt.title('$W_{in}$')\n",
    "plt.show()\n",
    "\n",
    "plt.imshow(np.array(spec['weights_rec']).T)\n",
    "plt.title('$W_{rec}$')\n",
    "plt.show()"
   ]
  },
  {
   "cell_type": "code",
   "execution_count": null,
   "metadata": {},
   "outputs": [],
   "source": [
    "# Evaluate the DYNAPSim network on the full test set\n",
    "ds = test_dl.dataset\n",
    "output, _, _ = net_quantized(ds.x.numpy())\n",
    "m = np.sum(output, axis=1)\n",
    "preds = np.argmax(m, axis=1)\n",
    "print(f\"Final accuracy: {np.round(np.mean(np.array(preds == ds.y.numpy()))*100,decimals=2)}%\")\n",
    "\n",
    "# Calculate confusion matrix\n",
    "cm = confusion_matrix(ds.y.numpy(), preds)\n",
    "disp = ConfusionMatrixDisplay(cm)\n",
    "disp.plot()\n",
    "plt.show()\n",
    "\n",
    "# Print the classification report\n",
    "print(classification_report(ds.y.numpy(), preds))"
   ]
  },
  {
   "cell_type": "code",
   "execution_count": null,
   "metadata": {},
   "outputs": [],
   "source": [
    "# Plot the DYNAPSim network activity for a specific sample\n",
    "ds = test_dl.dataset\n",
    "i = 0\n",
    "\n",
    "plt.figure(figsize=(15,5))\n",
    "plt.subplot(1,3,1)\n",
    "TSEvent.from_raster(\n",
    "            ds.x[i].numpy(),\n",
    "            dt=1e-3,\n",
    "        ).plot(marker=\"|\", s=8,linewidths=1)\n",
    "\n",
    "output, _, _ = net_quantized(ds.x[i].numpy())\n",
    "spks = np.sum(output,axis=1)[0]\n",
    "pred = np.argmax(spks)\n",
    "print(f\"Readout layer activity (spikes): {spks}\")\n",
    "print(f\"Label: {int(ds.y[i].numpy())}\")\n",
    "print(f\"Prediction: {pred}\")\n",
    "\n",
    "plt.subplot(1,3,2)\n",
    "TSEvent.from_raster(\n",
    "            output[0],\n",
    "            dt=1e-3,\n",
    "        ).plot(marker=\"|\", s=8)\n",
    "\n",
    "plt.tight_layout()\n",
    "plt.show()"
   ]
  },
  {
   "cell_type": "markdown",
   "metadata": {},
   "source": [
    "## DYNAP-SE2 Hardware Deploy"
   ]
  },
  {
   "cell_type": "code",
   "execution_count": null,
   "metadata": {},
   "outputs": [],
   "source": [
    "# Search for connected DYNAP-SE2\n",
    "se2_devices = find_dynapse_boards()\n",
    "if len(se2_devices) < 0:\n",
    "    raise \"No devices found...\"\n",
    "\n",
    "# Try to find the best IScale parameter value, to account for temperature changes\n",
    "best_config = None\n",
    "min_act = 1e10\n",
    "max_spks = 0\n",
    "for i_scale_value in range(1,30,2):\n",
    "\n",
    "    spec_Q = copy(spec_Q)\n",
    "\n",
    "    # Scale the weights to account for temperature discrepancy\n",
    "    spec_Q[\"Iscale\"] *= i_scale_value\n",
    "\n",
    "    # Convert spec to DYNAP-SE2 configuration\n",
    "    config = config_from_specification(**spec_Q)\n",
    "\n",
    "    # Test activity\n",
    "    se2 = DynapseSamna(se2_devices[0], **config,dt=1e-3)\n",
    "    se2.discharge_capacitors()\n",
    "    time.sleep(1)\n",
    "    output, _, _ = se2(ds.x[1].numpy(), record=False)\n",
    "    spks = np.sum(output[:,0:n_output_channels],axis=0)\n",
    "    \n",
    "    print(f\"Test iscale_value:{i_scale_value} -> Spikes {spks}\")\n",
    "    label = int(ds.y[1].numpy())\n",
    "    if len(spks) >= n_output_channels and (spks[label]> max_spks or spks[label] == max_spks and sum(spks) < min_act):\n",
    "        max_spks = spks[label]\n",
    "        min_act = sum(spks)\n",
    "        best_config = config\n",
    "        print(f\"New best: {spks}\")\n",
    "    \n",
    "\n",
    "# Print the most significative parameters from hardware configuration object\n",
    "print(\"\\nParameters:\")\n",
    "enabled_params = [\"SYAM_W0_P\",\"SYAM_W1_P\",\"SYAM_W2_P\",\"SYAM_W3_P\",\"DEAM_ITAU_P\",\"DEAM_ETAU_P\",\"DEAM_IGAIN_P\",\"DEAM_EGAIN_P\",\"SOIF_LEAK_N\",\"SOIF_SPKTHR_P\",\"SOIF_GAIN_N\",\"SOIF_REFR_N\",\"SOIF_DC_P\"]\n",
    "\n",
    "params = []\n",
    "for (k,v) in best_config[\"config\"].chips[0].cores[0].parameters.items():\n",
    "    if k in enabled_params:\n",
    "        params.append((k,v))\n",
    "\n",
    "for param in sorted(params):\n",
    "    print(f\"{param[0]} -> (Coarse:{param[1].coarse_value}, Fine:{param[1].fine_value})\")\n",
    "\n",
    "# Configure the board with the found configuration\n",
    "se2 = DynapseSamna(se2_devices[0], **best_config,dt=1e-3)"
   ]
  },
  {
   "cell_type": "code",
   "execution_count": null,
   "metadata": {
    "collapsed": false,
    "pycharm": {
     "name": "#%%\n"
    }
   },
   "outputs": [],
   "source": [
    "# Evaluate the network on the board on a reduced test subset\n",
    "ds = test_dl.dataset\n",
    "preds = []\n",
    "activity = []\n",
    "sample_subset = (100,120)\n",
    "for i in range(*sample_subset):\n",
    "    time.sleep(1)\n",
    "    se2.discharge_capacitors()\n",
    "    time.sleep(1)\n",
    "    plt.figure(figsize=(15,5))\n",
    "    plt.subplot(1,3,1)\n",
    "    TSEvent.from_raster(\n",
    "                ds.x[i].numpy(),\n",
    "                dt=1e-3,\n",
    "            ).plot(marker=\"|\", s=8,linewidths=1)\n",
    "\n",
    "    output, state, rec = se2(ds.x[i].numpy(), record=False)\n",
    "\n",
    "    spks = np.sum(output[:,0:n_output_channels],axis=0)\n",
    "    pred = None\n",
    "    if output.shape[1] > 0:\n",
    "        pred = np.argmax(spks)\n",
    "    preds.append(pred)\n",
    "    activity.append(output)\n",
    "    print(f\"Readout layer activity (spikes): {spks}\")\n",
    "    print(f\"Label: {int(ds.y[i].numpy())}\")\n",
    "    print(f\"Prediction: {pred}\")\n",
    "\n",
    "    plt.subplot(1,3,2)\n",
    "    TSEvent.from_raster(\n",
    "                output[:,0:n_output_channels],\n",
    "                dt=1e-3,\n",
    "            ).plot(marker=\"|\", s=8)\n",
    "    \n",
    "    plt.tight_layout()\n",
    "    plt.show()\n",
    "\n",
    "preds = np.array(preds)\n",
    "print(f\"Final accuracy: {np.mean(preds[preds != None]==ds.y.numpy()[sample_subset[0]:sample_subset[1]][preds!=None])*100}%\")\n",
    "\n",
    "# Store activity for future usage\n",
    "with open(f\"{model_path}/recorded_activity.pkl\", 'wb') as f:\n",
    "    pickle.dump(activity, f, pickle.HIGHEST_PROTOCOL)\n",
    "    \n",
    "# Print the classification report\n",
    "print(ds.y.numpy()[sample_subset[0]:sample_subset[1]][preds!=None])\n",
    "print(preds[preds != None])\n",
    "print(classification_report(ds.y.numpy()[sample_subset[0]:sample_subset[1]][preds!=None], preds[preds != None]))"
   ]
  }
 ],
 "metadata": {
  "kernelspec": {
   "display_name": "dynapse2rockpool",
   "language": "python",
   "name": "python3"
  },
  "language_info": {
   "codemirror_mode": {
    "name": "ipython",
    "version": 3
   },
   "file_extension": ".py",
   "mimetype": "text/x-python",
   "name": "python",
   "nbconvert_exporter": "python",
   "pygments_lexer": "ipython3",
   "version": "3.10.11"
  },
  "orig_nbformat": 4
 },
 "nbformat": 4,
 "nbformat_minor": 2
}
